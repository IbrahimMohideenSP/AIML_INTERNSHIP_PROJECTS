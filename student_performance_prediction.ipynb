{
 "cells": [
  {
   "cell_type": "markdown",
   "id": "a7db1edd",
   "metadata": {},
   "source": [
    "# Student Performance Prediction using Logistic Regression\n",
    "This project predicts whether a student will pass or fail based on hours studied and attendance using a simple logistic regression model.\n"
   ]
  },
  {
   "cell_type": "code",
   "execution_count": null,
   "id": "7512d189",
   "metadata": {},
   "outputs": [],
   "source": [
    "import pandas as pd\n",
    "import matplotlib.pyplot as plt\n",
    "from sklearn.model_selection import train_test_split\n",
    "from sklearn.linear_model import LogisticRegression\n",
    "from sklearn.metrics import accuracy_score, confusion_matrix, classification_report"
   ]
  },
  {
   "cell_type": "code",
   "execution_count": null,
   "id": "d1dd3a3d",
   "metadata": {},
   "outputs": [],
   "source": [
    "# Manually creating the dataset\n",
    "data = {\n",
    "    'Hours_Studied': [5, 2, 4, 1, 3, 6, 2.5, 4.5, 1.5, 5.5],\n",
    "    'Attendance': [85, 60, 75, 50, 65, 90, 55, 80, 45, 88],\n",
    "    'Pass_Fail': [1, 0, 1, 0, 0, 1, 0, 1, 0, 1]\n",
    "}\n",
    "df = pd.DataFrame(data)\n",
    "df"
   ]
  },
  {
   "cell_type": "code",
   "execution_count": null,
   "id": "ea670cef",
   "metadata": {},
   "outputs": [],
   "source": [
    "plt.scatter(df['Hours_Studied'], df['Attendance'], c=df['Pass_Fail'], cmap='bwr')\n",
    "plt.xlabel('Hours Studied')\n",
    "plt.ylabel('Attendance (%)')\n",
    "plt.title('Student Performance Scatter Plot')\n",
    "plt.show()"
   ]
  },
  {
   "cell_type": "code",
   "execution_count": null,
   "id": "4f858a8a",
   "metadata": {},
   "outputs": [],
   "source": [
    "X = df[['Hours_Studied', 'Attendance']]\n",
    "y = df['Pass_Fail']\n",
    "X_train, X_test, y_train, y_test = train_test_split(X, y, test_size=0.3, random_state=42)"
   ]
  },
  {
   "cell_type": "code",
   "execution_count": null,
   "id": "f0a07fb2",
   "metadata": {},
   "outputs": [],
   "source": [
    "model = LogisticRegression()\n",
    "model.fit(X_train, y_train)"
   ]
  },
  {
   "cell_type": "code",
   "execution_count": null,
   "id": "ecba7590",
   "metadata": {},
   "outputs": [],
   "source": [
    "y_pred = model.predict(X_test)\n",
    "print(\"Accuracy:\", accuracy_score(y_test, y_pred))\n",
    "print(\"\\nConfusion Matrix:\\n\", confusion_matrix(y_test, y_pred))\n",
    "print(\"\\nClassification Report:\\n\", classification_report(y_test, y_pred))"
   ]
  },
  {
   "cell_type": "code",
   "execution_count": null,
   "id": "7b166dd8",
   "metadata": {},
   "outputs": [],
   "source": [
    "# Predicting for new data: e.g., 3.5 hours studied and 70% attendance\n",
    "new_data = [[3.5, 70]]\n",
    "prediction = model.predict(new_data)\n",
    "print(\"Prediction (1 = Pass, 0 = Fail):\", prediction[0])"
   ]
  }
 ],
 "metadata": {},
 "nbformat": 4,
 "nbformat_minor": 5
}
